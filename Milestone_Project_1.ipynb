{
  "nbformat": 4,
  "nbformat_minor": 0,
  "metadata": {
    "colab": {
      "name": "Milestone Project 1.ipynb",
      "provenance": [],
      "collapsed_sections": []
    },
    "kernelspec": {
      "name": "python3",
      "display_name": "Python 3"
    }
  },
  "cells": [
    {
      "cell_type": "code",
      "metadata": {
        "id": "8NTmbdI1Qiq5",
        "colab_type": "code",
        "colab": {
          "base_uri": "https://localhost:8080/",
          "height": 102
        },
        "outputId": "582376f9-0e6c-4afd-bc08-d220ddb98c26"
      },
      "source": [
        "!pip install pandas==0.25\n"
      ],
      "execution_count": null,
      "outputs": [
        {
          "output_type": "stream",
          "text": [
            "Requirement already satisfied: pandas==0.25 in /usr/local/lib/python3.6/dist-packages (0.25.0)\n",
            "Requirement already satisfied: numpy>=1.13.3 in /usr/local/lib/python3.6/dist-packages (from pandas==0.25) (1.18.5)\n",
            "Requirement already satisfied: python-dateutil>=2.6.1 in /usr/local/lib/python3.6/dist-packages (from pandas==0.25) (2.8.1)\n",
            "Requirement already satisfied: pytz>=2017.2 in /usr/local/lib/python3.6/dist-packages (from pandas==0.25) (2018.9)\n",
            "Requirement already satisfied: six>=1.5 in /usr/local/lib/python3.6/dist-packages (from python-dateutil>=2.6.1->pandas==0.25) (1.15.0)\n"
          ],
          "name": "stdout"
        }
      ]
    },
    {
      "cell_type": "code",
      "metadata": {
        "id": "qePuulCq88R9",
        "colab_type": "code",
        "colab": {
          "base_uri": "https://localhost:8080/",
          "height": 71
        },
        "outputId": "a587a919-9fa3-43df-ad56-433d1f5b664b"
      },
      "source": [
        "import pandas as pd\n",
        "import matplotlib.pyplot as plt\n",
        "import seaborn as sns\n",
        "import numpy as np\n",
        "%matplotlib inline\n",
        "from IPython.core.display import display, HTML\n",
        "import warnings\n",
        "warnings.filterwarnings('ignore')\n",
        "pd.options.display.float_format = '{:,.2f}'.format\n",
        "display(HTML(\"<style>.container{width : 98% !important;}</style>\"))\n",
        "plt.style.use('ggplot')\n",
        "plt.rcParams['figure.figsize'] = [10,10]\n",
        "pd.set_option('display.max_columns', 500)\n",
        "pd.set_option('display.max_rows', 500)\n"
      ],
      "execution_count": 1,
      "outputs": [
        {
          "output_type": "stream",
          "text": [
            "/usr/local/lib/python3.6/dist-packages/statsmodels/tools/_testing.py:19: FutureWarning: pandas.util.testing is deprecated. Use the functions in the public API at pandas.testing instead.\n",
            "  import pandas.util.testing as tm\n"
          ],
          "name": "stderr"
        },
        {
          "output_type": "display_data",
          "data": {
            "text/html": [
              "<style>.container{width : 98% !important;}</style>"
            ],
            "text/plain": [
              "<IPython.core.display.HTML object>"
            ]
          },
          "metadata": {
            "tags": []
          }
        }
      ]
    },
    {
      "cell_type": "markdown",
      "metadata": {
        "id": "mhBFy4GAHJUP",
        "colab_type": "text"
      },
      "source": [
        "Import the datasets and libraries, check datatype, statistical summary, shape, null values or incorrect imputation."
      ]
    },
    {
      "cell_type": "code",
      "metadata": {
        "id": "0KbGxcY5Bnlp",
        "colab_type": "code",
        "colab": {}
      },
      "source": [
        "from scipy import stats\n",
        "from sklearn import metrics"
      ],
      "execution_count": 2,
      "outputs": []
    },
    {
      "cell_type": "code",
      "metadata": {
        "id": "kdfarqB8BXv9",
        "colab_type": "code",
        "colab": {}
      },
      "source": [
        "data = pd.read_csv('/content/ML Case Study - Data.csv') #import datasets"
      ],
      "execution_count": 3,
      "outputs": []
    },
    {
      "cell_type": "code",
      "metadata": {
        "id": "qbudr1U0-Cp-",
        "colab_type": "code",
        "colab": {
          "base_uri": "https://localhost:8080/",
          "height": 204
        },
        "outputId": "2935debe-67cc-4513-d40d-8cbc590d99c2"
      },
      "source": [
        "data.head()"
      ],
      "execution_count": 4,
      "outputs": [
        {
          "output_type": "execute_result",
          "data": {
            "text/html": [
              "<div>\n",
              "<style scoped>\n",
              "    .dataframe tbody tr th:only-of-type {\n",
              "        vertical-align: middle;\n",
              "    }\n",
              "\n",
              "    .dataframe tbody tr th {\n",
              "        vertical-align: top;\n",
              "    }\n",
              "\n",
              "    .dataframe thead th {\n",
              "        text-align: right;\n",
              "    }\n",
              "</style>\n",
              "<table border=\"1\" class=\"dataframe\">\n",
              "  <thead>\n",
              "    <tr style=\"text-align: right;\">\n",
              "      <th></th>\n",
              "      <th>ID</th>\n",
              "      <th>Age</th>\n",
              "      <th>Experience</th>\n",
              "      <th>Income</th>\n",
              "      <th>ZIP Code</th>\n",
              "      <th>Family</th>\n",
              "      <th>CCAvg</th>\n",
              "      <th>Education</th>\n",
              "      <th>Mortgage</th>\n",
              "      <th>Personal Loan</th>\n",
              "      <th>Securities Account</th>\n",
              "      <th>CD Account</th>\n",
              "      <th>Online</th>\n",
              "      <th>CreditCard</th>\n",
              "    </tr>\n",
              "  </thead>\n",
              "  <tbody>\n",
              "    <tr>\n",
              "      <th>0</th>\n",
              "      <td>1</td>\n",
              "      <td>25</td>\n",
              "      <td>1</td>\n",
              "      <td>49</td>\n",
              "      <td>91107</td>\n",
              "      <td>4</td>\n",
              "      <td>1.60</td>\n",
              "      <td>1</td>\n",
              "      <td>0</td>\n",
              "      <td>0</td>\n",
              "      <td>1</td>\n",
              "      <td>0</td>\n",
              "      <td>0</td>\n",
              "      <td>0</td>\n",
              "    </tr>\n",
              "    <tr>\n",
              "      <th>1</th>\n",
              "      <td>2</td>\n",
              "      <td>45</td>\n",
              "      <td>19</td>\n",
              "      <td>34</td>\n",
              "      <td>90089</td>\n",
              "      <td>3</td>\n",
              "      <td>1.50</td>\n",
              "      <td>1</td>\n",
              "      <td>0</td>\n",
              "      <td>0</td>\n",
              "      <td>1</td>\n",
              "      <td>0</td>\n",
              "      <td>0</td>\n",
              "      <td>0</td>\n",
              "    </tr>\n",
              "    <tr>\n",
              "      <th>2</th>\n",
              "      <td>3</td>\n",
              "      <td>39</td>\n",
              "      <td>15</td>\n",
              "      <td>11</td>\n",
              "      <td>94720</td>\n",
              "      <td>1</td>\n",
              "      <td>1.00</td>\n",
              "      <td>1</td>\n",
              "      <td>0</td>\n",
              "      <td>0</td>\n",
              "      <td>0</td>\n",
              "      <td>0</td>\n",
              "      <td>0</td>\n",
              "      <td>0</td>\n",
              "    </tr>\n",
              "    <tr>\n",
              "      <th>3</th>\n",
              "      <td>4</td>\n",
              "      <td>35</td>\n",
              "      <td>9</td>\n",
              "      <td>100</td>\n",
              "      <td>94112</td>\n",
              "      <td>1</td>\n",
              "      <td>2.70</td>\n",
              "      <td>2</td>\n",
              "      <td>0</td>\n",
              "      <td>0</td>\n",
              "      <td>0</td>\n",
              "      <td>0</td>\n",
              "      <td>0</td>\n",
              "      <td>0</td>\n",
              "    </tr>\n",
              "    <tr>\n",
              "      <th>4</th>\n",
              "      <td>5</td>\n",
              "      <td>35</td>\n",
              "      <td>8</td>\n",
              "      <td>45</td>\n",
              "      <td>91330</td>\n",
              "      <td>4</td>\n",
              "      <td>1.00</td>\n",
              "      <td>2</td>\n",
              "      <td>0</td>\n",
              "      <td>0</td>\n",
              "      <td>0</td>\n",
              "      <td>0</td>\n",
              "      <td>0</td>\n",
              "      <td>1</td>\n",
              "    </tr>\n",
              "  </tbody>\n",
              "</table>\n",
              "</div>"
            ],
            "text/plain": [
              "   ID  Age  Experience  Income  ZIP Code  Family  CCAvg  Education  Mortgage  \\\n",
              "0   1   25           1      49     91107       4   1.60          1         0   \n",
              "1   2   45          19      34     90089       3   1.50          1         0   \n",
              "2   3   39          15      11     94720       1   1.00          1         0   \n",
              "3   4   35           9     100     94112       1   2.70          2         0   \n",
              "4   5   35           8      45     91330       4   1.00          2         0   \n",
              "\n",
              "   Personal Loan  Securities Account  CD Account  Online  CreditCard  \n",
              "0              0                   1           0       0           0  \n",
              "1              0                   1           0       0           0  \n",
              "2              0                   0           0       0           0  \n",
              "3              0                   0           0       0           0  \n",
              "4              0                   0           0       0           1  "
            ]
          },
          "metadata": {
            "tags": []
          },
          "execution_count": 4
        }
      ]
    },
    {
      "cell_type": "code",
      "metadata": {
        "id": "fACp1DOPByce",
        "colab_type": "code",
        "colab": {
          "base_uri": "https://localhost:8080/",
          "height": 374
        },
        "outputId": "349338de-6142-464e-d710-9d6140cde079"
      },
      "source": [
        "data.info() #check datatype"
      ],
      "execution_count": 5,
      "outputs": [
        {
          "output_type": "stream",
          "text": [
            "<class 'pandas.core.frame.DataFrame'>\n",
            "RangeIndex: 5000 entries, 0 to 4999\n",
            "Data columns (total 14 columns):\n",
            " #   Column              Non-Null Count  Dtype  \n",
            "---  ------              --------------  -----  \n",
            " 0   ID                  5000 non-null   int64  \n",
            " 1   Age                 5000 non-null   int64  \n",
            " 2   Experience          5000 non-null   int64  \n",
            " 3   Income              5000 non-null   int64  \n",
            " 4   ZIP Code            5000 non-null   int64  \n",
            " 5   Family              5000 non-null   int64  \n",
            " 6   CCAvg               5000 non-null   float64\n",
            " 7   Education           5000 non-null   int64  \n",
            " 8   Mortgage            5000 non-null   int64  \n",
            " 9   Personal Loan       5000 non-null   int64  \n",
            " 10  Securities Account  5000 non-null   int64  \n",
            " 11  CD Account          5000 non-null   int64  \n",
            " 12  Online              5000 non-null   int64  \n",
            " 13  CreditCard          5000 non-null   int64  \n",
            "dtypes: float64(1), int64(13)\n",
            "memory usage: 547.0 KB\n"
          ],
          "name": "stdout"
        }
      ]
    },
    {
      "cell_type": "code",
      "metadata": {
        "id": "ptaCtQOQQdOJ",
        "colab_type": "code",
        "colab": {
          "base_uri": "https://localhost:8080/",
          "height": 314
        },
        "outputId": "241ec6f4-a88a-4780-e2f7-f45b420a3422"
      },
      "source": [
        "data.describe()"
      ],
      "execution_count": 6,
      "outputs": [
        {
          "output_type": "execute_result",
          "data": {
            "text/html": [
              "<div>\n",
              "<style scoped>\n",
              "    .dataframe tbody tr th:only-of-type {\n",
              "        vertical-align: middle;\n",
              "    }\n",
              "\n",
              "    .dataframe tbody tr th {\n",
              "        vertical-align: top;\n",
              "    }\n",
              "\n",
              "    .dataframe thead th {\n",
              "        text-align: right;\n",
              "    }\n",
              "</style>\n",
              "<table border=\"1\" class=\"dataframe\">\n",
              "  <thead>\n",
              "    <tr style=\"text-align: right;\">\n",
              "      <th></th>\n",
              "      <th>ID</th>\n",
              "      <th>Age</th>\n",
              "      <th>Experience</th>\n",
              "      <th>Income</th>\n",
              "      <th>ZIP Code</th>\n",
              "      <th>Family</th>\n",
              "      <th>CCAvg</th>\n",
              "      <th>Education</th>\n",
              "      <th>Mortgage</th>\n",
              "      <th>Personal Loan</th>\n",
              "      <th>Securities Account</th>\n",
              "      <th>CD Account</th>\n",
              "      <th>Online</th>\n",
              "      <th>CreditCard</th>\n",
              "    </tr>\n",
              "  </thead>\n",
              "  <tbody>\n",
              "    <tr>\n",
              "      <th>count</th>\n",
              "      <td>5,000.00</td>\n",
              "      <td>5,000.00</td>\n",
              "      <td>5,000.00</td>\n",
              "      <td>5,000.00</td>\n",
              "      <td>5,000.00</td>\n",
              "      <td>5,000.00</td>\n",
              "      <td>5,000.00</td>\n",
              "      <td>5,000.00</td>\n",
              "      <td>5,000.00</td>\n",
              "      <td>5,000.00</td>\n",
              "      <td>5,000.00</td>\n",
              "      <td>5,000.00</td>\n",
              "      <td>5,000.00</td>\n",
              "      <td>5,000.00</td>\n",
              "    </tr>\n",
              "    <tr>\n",
              "      <th>mean</th>\n",
              "      <td>2,500.50</td>\n",
              "      <td>45.34</td>\n",
              "      <td>20.10</td>\n",
              "      <td>73.77</td>\n",
              "      <td>93,152.50</td>\n",
              "      <td>2.40</td>\n",
              "      <td>1.94</td>\n",
              "      <td>1.88</td>\n",
              "      <td>56.50</td>\n",
              "      <td>0.10</td>\n",
              "      <td>0.10</td>\n",
              "      <td>0.06</td>\n",
              "      <td>0.60</td>\n",
              "      <td>0.29</td>\n",
              "    </tr>\n",
              "    <tr>\n",
              "      <th>std</th>\n",
              "      <td>1,443.52</td>\n",
              "      <td>11.46</td>\n",
              "      <td>11.47</td>\n",
              "      <td>46.03</td>\n",
              "      <td>2,121.85</td>\n",
              "      <td>1.15</td>\n",
              "      <td>1.75</td>\n",
              "      <td>0.84</td>\n",
              "      <td>101.71</td>\n",
              "      <td>0.29</td>\n",
              "      <td>0.31</td>\n",
              "      <td>0.24</td>\n",
              "      <td>0.49</td>\n",
              "      <td>0.46</td>\n",
              "    </tr>\n",
              "    <tr>\n",
              "      <th>min</th>\n",
              "      <td>1.00</td>\n",
              "      <td>23.00</td>\n",
              "      <td>-3.00</td>\n",
              "      <td>8.00</td>\n",
              "      <td>9,307.00</td>\n",
              "      <td>1.00</td>\n",
              "      <td>0.00</td>\n",
              "      <td>1.00</td>\n",
              "      <td>0.00</td>\n",
              "      <td>0.00</td>\n",
              "      <td>0.00</td>\n",
              "      <td>0.00</td>\n",
              "      <td>0.00</td>\n",
              "      <td>0.00</td>\n",
              "    </tr>\n",
              "    <tr>\n",
              "      <th>25%</th>\n",
              "      <td>1,250.75</td>\n",
              "      <td>35.00</td>\n",
              "      <td>10.00</td>\n",
              "      <td>39.00</td>\n",
              "      <td>91,911.00</td>\n",
              "      <td>1.00</td>\n",
              "      <td>0.70</td>\n",
              "      <td>1.00</td>\n",
              "      <td>0.00</td>\n",
              "      <td>0.00</td>\n",
              "      <td>0.00</td>\n",
              "      <td>0.00</td>\n",
              "      <td>0.00</td>\n",
              "      <td>0.00</td>\n",
              "    </tr>\n",
              "    <tr>\n",
              "      <th>50%</th>\n",
              "      <td>2,500.50</td>\n",
              "      <td>45.00</td>\n",
              "      <td>20.00</td>\n",
              "      <td>64.00</td>\n",
              "      <td>93,437.00</td>\n",
              "      <td>2.00</td>\n",
              "      <td>1.50</td>\n",
              "      <td>2.00</td>\n",
              "      <td>0.00</td>\n",
              "      <td>0.00</td>\n",
              "      <td>0.00</td>\n",
              "      <td>0.00</td>\n",
              "      <td>1.00</td>\n",
              "      <td>0.00</td>\n",
              "    </tr>\n",
              "    <tr>\n",
              "      <th>75%</th>\n",
              "      <td>3,750.25</td>\n",
              "      <td>55.00</td>\n",
              "      <td>30.00</td>\n",
              "      <td>98.00</td>\n",
              "      <td>94,608.00</td>\n",
              "      <td>3.00</td>\n",
              "      <td>2.50</td>\n",
              "      <td>3.00</td>\n",
              "      <td>101.00</td>\n",
              "      <td>0.00</td>\n",
              "      <td>0.00</td>\n",
              "      <td>0.00</td>\n",
              "      <td>1.00</td>\n",
              "      <td>1.00</td>\n",
              "    </tr>\n",
              "    <tr>\n",
              "      <th>max</th>\n",
              "      <td>5,000.00</td>\n",
              "      <td>67.00</td>\n",
              "      <td>43.00</td>\n",
              "      <td>224.00</td>\n",
              "      <td>96,651.00</td>\n",
              "      <td>4.00</td>\n",
              "      <td>10.00</td>\n",
              "      <td>3.00</td>\n",
              "      <td>635.00</td>\n",
              "      <td>1.00</td>\n",
              "      <td>1.00</td>\n",
              "      <td>1.00</td>\n",
              "      <td>1.00</td>\n",
              "      <td>1.00</td>\n",
              "    </tr>\n",
              "  </tbody>\n",
              "</table>\n",
              "</div>"
            ],
            "text/plain": [
              "            ID      Age  Experience   Income  ZIP Code   Family    CCAvg  \\\n",
              "count 5,000.00 5,000.00    5,000.00 5,000.00  5,000.00 5,000.00 5,000.00   \n",
              "mean  2,500.50    45.34       20.10    73.77 93,152.50     2.40     1.94   \n",
              "std   1,443.52    11.46       11.47    46.03  2,121.85     1.15     1.75   \n",
              "min       1.00    23.00       -3.00     8.00  9,307.00     1.00     0.00   \n",
              "25%   1,250.75    35.00       10.00    39.00 91,911.00     1.00     0.70   \n",
              "50%   2,500.50    45.00       20.00    64.00 93,437.00     2.00     1.50   \n",
              "75%   3,750.25    55.00       30.00    98.00 94,608.00     3.00     2.50   \n",
              "max   5,000.00    67.00       43.00   224.00 96,651.00     4.00    10.00   \n",
              "\n",
              "       Education  Mortgage  Personal Loan  Securities Account  CD Account  \\\n",
              "count   5,000.00  5,000.00       5,000.00            5,000.00    5,000.00   \n",
              "mean        1.88     56.50           0.10                0.10        0.06   \n",
              "std         0.84    101.71           0.29                0.31        0.24   \n",
              "min         1.00      0.00           0.00                0.00        0.00   \n",
              "25%         1.00      0.00           0.00                0.00        0.00   \n",
              "50%         2.00      0.00           0.00                0.00        0.00   \n",
              "75%         3.00    101.00           0.00                0.00        0.00   \n",
              "max         3.00    635.00           1.00                1.00        1.00   \n",
              "\n",
              "        Online  CreditCard  \n",
              "count 5,000.00    5,000.00  \n",
              "mean      0.60        0.29  \n",
              "std       0.49        0.46  \n",
              "min       0.00        0.00  \n",
              "25%       0.00        0.00  \n",
              "50%       1.00        0.00  \n",
              "75%       1.00        1.00  \n",
              "max       1.00        1.00  "
            ]
          },
          "metadata": {
            "tags": []
          },
          "execution_count": 6
        }
      ]
    },
    {
      "cell_type": "code",
      "metadata": {
        "id": "Qu6lPC8WQ0b_",
        "colab_type": "code",
        "colab": {
          "base_uri": "https://localhost:8080/",
          "height": 357
        },
        "outputId": "5d59a84e-58ef-402b-ad23-c8a98c49a593"
      },
      "source": [
        "#EDA \n",
        "from pandas_profiling import ProfileReport\n",
        "ProfileReport(data).to_file('EDA_milestone1.html')"
      ],
      "execution_count": 7,
      "outputs": [
        {
          "output_type": "error",
          "ename": "TypeError",
          "evalue": "ignored",
          "traceback": [
            "\u001b[0;31m---------------------------------------------------------------------------\u001b[0m",
            "\u001b[0;31mTypeError\u001b[0m                                 Traceback (most recent call last)",
            "\u001b[0;32m<ipython-input-7-8b0743629a3a>\u001b[0m in \u001b[0;36m<module>\u001b[0;34m()\u001b[0m\n\u001b[1;32m      1\u001b[0m \u001b[0;31m#EDA\u001b[0m\u001b[0;34m\u001b[0m\u001b[0;34m\u001b[0m\u001b[0;34m\u001b[0m\u001b[0m\n\u001b[1;32m      2\u001b[0m \u001b[0;32mfrom\u001b[0m \u001b[0mpandas_profiling\u001b[0m \u001b[0;32mimport\u001b[0m \u001b[0mProfileReport\u001b[0m\u001b[0;34m\u001b[0m\u001b[0;34m\u001b[0m\u001b[0m\n\u001b[0;32m----> 3\u001b[0;31m \u001b[0mProfileReport\u001b[0m\u001b[0;34m(\u001b[0m\u001b[0mdata\u001b[0m\u001b[0;34m)\u001b[0m\u001b[0;34m.\u001b[0m\u001b[0mto_file\u001b[0m\u001b[0;34m(\u001b[0m\u001b[0;34m'EDA_milestone1.html'\u001b[0m\u001b[0;34m)\u001b[0m\u001b[0;34m\u001b[0m\u001b[0;34m\u001b[0m\u001b[0m\n\u001b[0m",
            "\u001b[0;32m/usr/local/lib/python3.6/dist-packages/pandas_profiling/__init__.py\u001b[0m in \u001b[0;36m__init__\u001b[0;34m(self, df, **kwargs)\u001b[0m\n\u001b[1;32m     64\u001b[0m         \u001b[0msample\u001b[0m \u001b[0;34m=\u001b[0m \u001b[0mkwargs\u001b[0m\u001b[0;34m.\u001b[0m\u001b[0mget\u001b[0m\u001b[0;34m(\u001b[0m\u001b[0;34m'sample'\u001b[0m\u001b[0;34m,\u001b[0m \u001b[0mdf\u001b[0m\u001b[0;34m.\u001b[0m\u001b[0mhead\u001b[0m\u001b[0;34m(\u001b[0m\u001b[0;34m)\u001b[0m\u001b[0;34m)\u001b[0m\u001b[0;34m\u001b[0m\u001b[0;34m\u001b[0m\u001b[0m\n\u001b[1;32m     65\u001b[0m \u001b[0;34m\u001b[0m\u001b[0m\n\u001b[0;32m---> 66\u001b[0;31m         \u001b[0mdescription_set\u001b[0m \u001b[0;34m=\u001b[0m \u001b[0mdescribe\u001b[0m\u001b[0;34m(\u001b[0m\u001b[0mdf\u001b[0m\u001b[0;34m,\u001b[0m \u001b[0;34m**\u001b[0m\u001b[0mkwargs\u001b[0m\u001b[0;34m)\u001b[0m\u001b[0;34m\u001b[0m\u001b[0;34m\u001b[0m\u001b[0m\n\u001b[0m\u001b[1;32m     67\u001b[0m \u001b[0;34m\u001b[0m\u001b[0m\n\u001b[1;32m     68\u001b[0m         self.html = to_html(sample,\n",
            "\u001b[0;32m/usr/local/lib/python3.6/dist-packages/pandas_profiling/describe.py\u001b[0m in \u001b[0;36mdescribe\u001b[0;34m(df, bins, check_correlation, correlation_threshold, correlation_overrides, check_recoded, pool_size, **kwargs)\u001b[0m\n\u001b[1;32m    390\u001b[0m             \u001b[0;32mif\u001b[0m \u001b[0mname\u001b[0m \u001b[0;32mnot\u001b[0m \u001b[0;32min\u001b[0m \u001b[0mnames\u001b[0m\u001b[0;34m:\u001b[0m\u001b[0;34m\u001b[0m\u001b[0;34m\u001b[0m\u001b[0m\n\u001b[1;32m    391\u001b[0m                 \u001b[0mnames\u001b[0m\u001b[0;34m.\u001b[0m\u001b[0mappend\u001b[0m\u001b[0;34m(\u001b[0m\u001b[0mname\u001b[0m\u001b[0;34m)\u001b[0m\u001b[0;34m\u001b[0m\u001b[0;34m\u001b[0m\u001b[0m\n\u001b[0;32m--> 392\u001b[0;31m     \u001b[0mvariable_stats\u001b[0m \u001b[0;34m=\u001b[0m \u001b[0mpd\u001b[0m\u001b[0;34m.\u001b[0m\u001b[0mconcat\u001b[0m\u001b[0;34m(\u001b[0m\u001b[0mldesc\u001b[0m\u001b[0;34m,\u001b[0m \u001b[0mjoin_axes\u001b[0m\u001b[0;34m=\u001b[0m\u001b[0mpd\u001b[0m\u001b[0;34m.\u001b[0m\u001b[0mIndex\u001b[0m\u001b[0;34m(\u001b[0m\u001b[0;34m[\u001b[0m\u001b[0mnames\u001b[0m\u001b[0;34m]\u001b[0m\u001b[0;34m)\u001b[0m\u001b[0;34m,\u001b[0m \u001b[0maxis\u001b[0m\u001b[0;34m=\u001b[0m\u001b[0;36m1\u001b[0m\u001b[0;34m)\u001b[0m\u001b[0;34m\u001b[0m\u001b[0;34m\u001b[0m\u001b[0m\n\u001b[0m\u001b[1;32m    393\u001b[0m     \u001b[0mvariable_stats\u001b[0m\u001b[0;34m.\u001b[0m\u001b[0mcolumns\u001b[0m\u001b[0;34m.\u001b[0m\u001b[0mnames\u001b[0m \u001b[0;34m=\u001b[0m \u001b[0mdf\u001b[0m\u001b[0;34m.\u001b[0m\u001b[0mcolumns\u001b[0m\u001b[0;34m.\u001b[0m\u001b[0mnames\u001b[0m\u001b[0;34m\u001b[0m\u001b[0;34m\u001b[0m\u001b[0m\n\u001b[1;32m    394\u001b[0m \u001b[0;34m\u001b[0m\u001b[0m\n",
            "\u001b[0;31mTypeError\u001b[0m: concat() got an unexpected keyword argument 'join_axes'"
          ]
        }
      ]
    },
    {
      "cell_type": "code",
      "metadata": {
        "id": "r7s-RnBuRaUG",
        "colab_type": "code",
        "colab": {
          "base_uri": "https://localhost:8080/",
          "height": 34
        },
        "outputId": "119a975b-1ec9-49b3-8b3c-d39bac1737a4"
      },
      "source": [
        "#shape of data\n",
        "data.shape"
      ],
      "execution_count": 8,
      "outputs": [
        {
          "output_type": "execute_result",
          "data": {
            "text/plain": [
              "(5000, 14)"
            ]
          },
          "metadata": {
            "tags": []
          },
          "execution_count": 8
        }
      ]
    },
    {
      "cell_type": "code",
      "metadata": {
        "id": "7x1KfKQVJm2R",
        "colab_type": "code",
        "colab": {
          "base_uri": "https://localhost:8080/",
          "height": 272
        },
        "outputId": "9432cc24-a182-4987-8e7a-e19468f35f95"
      },
      "source": [
        "#Suggests some Catagorical Varaibles in play\n",
        "data.nunique()"
      ],
      "execution_count": 9,
      "outputs": [
        {
          "output_type": "execute_result",
          "data": {
            "text/plain": [
              "ID                    5000\n",
              "Age                     45\n",
              "Experience              47\n",
              "Income                 162\n",
              "ZIP Code               467\n",
              "Family                   4\n",
              "CCAvg                  108\n",
              "Education                3\n",
              "Mortgage               347\n",
              "Personal Loan            2\n",
              "Securities Account       2\n",
              "CD Account               2\n",
              "Online                   2\n",
              "CreditCard               2\n",
              "dtype: int64"
            ]
          },
          "metadata": {
            "tags": []
          },
          "execution_count": 9
        }
      ]
    },
    {
      "cell_type": "code",
      "metadata": {
        "id": "3uM0JgC_Rdnq",
        "colab_type": "code",
        "colab": {
          "base_uri": "https://localhost:8080/",
          "height": 272
        },
        "outputId": "c16d3bbc-72d0-4249-d824-1d06fc0b4640"
      },
      "source": [
        "data.isnull().sum()  #No Null/Missing Values Found"
      ],
      "execution_count": 10,
      "outputs": [
        {
          "output_type": "execute_result",
          "data": {
            "text/plain": [
              "ID                    0\n",
              "Age                   0\n",
              "Experience            0\n",
              "Income                0\n",
              "ZIP Code              0\n",
              "Family                0\n",
              "CCAvg                 0\n",
              "Education             0\n",
              "Mortgage              0\n",
              "Personal Loan         0\n",
              "Securities Account    0\n",
              "CD Account            0\n",
              "Online                0\n",
              "CreditCard            0\n",
              "dtype: int64"
            ]
          },
          "metadata": {
            "tags": []
          },
          "execution_count": 10
        }
      ]
    },
    {
      "cell_type": "code",
      "metadata": {
        "id": "WqSIYD0-SWQG",
        "colab_type": "code",
        "colab": {
          "base_uri": "https://localhost:8080/",
          "height": 34
        },
        "outputId": "c99cbe21-60e0-4509-d588-37c402a9d7cc"
      },
      "source": [
        "data['ZIP Code'].nunique() #Number of unique in each column?\n",
        "#data['ZIP Code'].unique()"
      ],
      "execution_count": 11,
      "outputs": [
        {
          "output_type": "execute_result",
          "data": {
            "text/plain": [
              "467"
            ]
          },
          "metadata": {
            "tags": []
          },
          "execution_count": 11
        }
      ]
    },
    {
      "cell_type": "code",
      "metadata": {
        "id": "sFyFm-bzPjDh",
        "colab_type": "code",
        "colab": {
          "base_uri": "https://localhost:8080/",
          "height": 34
        },
        "outputId": "28d704f6-6233-4a00-e7b8-42bd09fd90a6"
      },
      "source": [
        "(data['Mortgage']==0).sum() #Number of people with zero mortgage?"
      ],
      "execution_count": 12,
      "outputs": [
        {
          "output_type": "execute_result",
          "data": {
            "text/plain": [
              "3462"
            ]
          },
          "metadata": {
            "tags": []
          },
          "execution_count": 12
        }
      ]
    },
    {
      "cell_type": "code",
      "metadata": {
        "id": "KLQn7oMMP6PQ",
        "colab_type": "code",
        "colab": {
          "base_uri": "https://localhost:8080/",
          "height": 34
        },
        "outputId": "3a5628e5-8265-4de5-fc34-c3d276a2c5c0"
      },
      "source": [
        "(data['CCAvg']==0).sum() #Number of people with zero credit card spending per month"
      ],
      "execution_count": 13,
      "outputs": [
        {
          "output_type": "execute_result",
          "data": {
            "text/plain": [
              "106"
            ]
          },
          "metadata": {
            "tags": []
          },
          "execution_count": 13
        }
      ]
    },
    {
      "cell_type": "code",
      "metadata": {
        "id": "wV_vpOb2QdbG",
        "colab_type": "code",
        "colab": {
          "base_uri": "https://localhost:8080/",
          "height": 340
        },
        "outputId": "43a1052f-6c98-4ff6-cd9c-26d92790bcb0"
      },
      "source": [
        "#Value counts of all categorical columns\n",
        "for columns in ['Education','Personal Loan','Securities Account','CD Account','Online','CreditCard']:\n",
        "  print(data[columns].value_counts())"
      ],
      "execution_count": 14,
      "outputs": [
        {
          "output_type": "stream",
          "text": [
            "1    2096\n",
            "3    1501\n",
            "2    1403\n",
            "Name: Education, dtype: int64\n",
            "0    4520\n",
            "1     480\n",
            "Name: Personal Loan, dtype: int64\n",
            "0    4478\n",
            "1     522\n",
            "Name: Securities Account, dtype: int64\n",
            "0    4698\n",
            "1     302\n",
            "Name: CD Account, dtype: int64\n",
            "1    2984\n",
            "0    2016\n",
            "Name: Online, dtype: int64\n",
            "0    3530\n",
            "1    1470\n",
            "Name: CreditCard, dtype: int64\n"
          ],
          "name": "stdout"
        }
      ]
    },
    {
      "cell_type": "code",
      "metadata": {
        "id": "Ez0GZAYCTXef",
        "colab_type": "code",
        "colab": {
          "base_uri": "https://localhost:8080/",
          "height": 34
        },
        "outputId": "8c10baad-4d18-405f-bb57-66c922694af7"
      },
      "source": [
        "sns.pairplot(data)"
      ],
      "execution_count": 15,
      "outputs": [
        {
          "output_type": "execute_result",
          "data": {
            "text/plain": [
              "<seaborn.axisgrid.PairGrid at 0x7efcc46797b8>"
            ]
          },
          "metadata": {
            "tags": []
          },
          "execution_count": 15
        }
      ]
    },
    {
      "cell_type": "markdown",
      "metadata": {
        "id": "eYn14BF4TfTi",
        "colab_type": "text"
      },
      "source": [
        "Getting Data Model Ready"
      ]
    },
    {
      "cell_type": "code",
      "metadata": {
        "id": "S-xUqIHbRnO1",
        "colab_type": "code",
        "colab": {}
      },
      "source": [
        "data.drop(['ID','ZIP Code'], axis=1, inplace=True)"
      ],
      "execution_count": 16,
      "outputs": []
    },
    {
      "cell_type": "code",
      "metadata": {
        "id": "kCAdRQ1_SFXu",
        "colab_type": "code",
        "colab": {
          "base_uri": "https://localhost:8080/",
          "height": 204
        },
        "outputId": "3d54cb49-5028-4f1b-b2db-b726fe5e225b"
      },
      "source": [
        "data.tail()"
      ],
      "execution_count": 17,
      "outputs": [
        {
          "output_type": "execute_result",
          "data": {
            "text/html": [
              "<div>\n",
              "<style scoped>\n",
              "    .dataframe tbody tr th:only-of-type {\n",
              "        vertical-align: middle;\n",
              "    }\n",
              "\n",
              "    .dataframe tbody tr th {\n",
              "        vertical-align: top;\n",
              "    }\n",
              "\n",
              "    .dataframe thead th {\n",
              "        text-align: right;\n",
              "    }\n",
              "</style>\n",
              "<table border=\"1\" class=\"dataframe\">\n",
              "  <thead>\n",
              "    <tr style=\"text-align: right;\">\n",
              "      <th></th>\n",
              "      <th>Age</th>\n",
              "      <th>Experience</th>\n",
              "      <th>Income</th>\n",
              "      <th>Family</th>\n",
              "      <th>CCAvg</th>\n",
              "      <th>Education</th>\n",
              "      <th>Mortgage</th>\n",
              "      <th>Personal Loan</th>\n",
              "      <th>Securities Account</th>\n",
              "      <th>CD Account</th>\n",
              "      <th>Online</th>\n",
              "      <th>CreditCard</th>\n",
              "    </tr>\n",
              "  </thead>\n",
              "  <tbody>\n",
              "    <tr>\n",
              "      <th>4995</th>\n",
              "      <td>29</td>\n",
              "      <td>3</td>\n",
              "      <td>40</td>\n",
              "      <td>1</td>\n",
              "      <td>1.90</td>\n",
              "      <td>3</td>\n",
              "      <td>0</td>\n",
              "      <td>0</td>\n",
              "      <td>0</td>\n",
              "      <td>0</td>\n",
              "      <td>1</td>\n",
              "      <td>0</td>\n",
              "    </tr>\n",
              "    <tr>\n",
              "      <th>4996</th>\n",
              "      <td>30</td>\n",
              "      <td>4</td>\n",
              "      <td>15</td>\n",
              "      <td>4</td>\n",
              "      <td>0.40</td>\n",
              "      <td>1</td>\n",
              "      <td>85</td>\n",
              "      <td>0</td>\n",
              "      <td>0</td>\n",
              "      <td>0</td>\n",
              "      <td>1</td>\n",
              "      <td>0</td>\n",
              "    </tr>\n",
              "    <tr>\n",
              "      <th>4997</th>\n",
              "      <td>63</td>\n",
              "      <td>39</td>\n",
              "      <td>24</td>\n",
              "      <td>2</td>\n",
              "      <td>0.30</td>\n",
              "      <td>3</td>\n",
              "      <td>0</td>\n",
              "      <td>0</td>\n",
              "      <td>0</td>\n",
              "      <td>0</td>\n",
              "      <td>0</td>\n",
              "      <td>0</td>\n",
              "    </tr>\n",
              "    <tr>\n",
              "      <th>4998</th>\n",
              "      <td>65</td>\n",
              "      <td>40</td>\n",
              "      <td>49</td>\n",
              "      <td>3</td>\n",
              "      <td>0.50</td>\n",
              "      <td>2</td>\n",
              "      <td>0</td>\n",
              "      <td>0</td>\n",
              "      <td>0</td>\n",
              "      <td>0</td>\n",
              "      <td>1</td>\n",
              "      <td>0</td>\n",
              "    </tr>\n",
              "    <tr>\n",
              "      <th>4999</th>\n",
              "      <td>28</td>\n",
              "      <td>4</td>\n",
              "      <td>83</td>\n",
              "      <td>3</td>\n",
              "      <td>0.80</td>\n",
              "      <td>1</td>\n",
              "      <td>0</td>\n",
              "      <td>0</td>\n",
              "      <td>0</td>\n",
              "      <td>0</td>\n",
              "      <td>1</td>\n",
              "      <td>1</td>\n",
              "    </tr>\n",
              "  </tbody>\n",
              "</table>\n",
              "</div>"
            ],
            "text/plain": [
              "      Age  Experience  Income  Family  CCAvg  Education  Mortgage  \\\n",
              "4995   29           3      40       1   1.90          3         0   \n",
              "4996   30           4      15       4   0.40          1        85   \n",
              "4997   63          39      24       2   0.30          3         0   \n",
              "4998   65          40      49       3   0.50          2         0   \n",
              "4999   28           4      83       3   0.80          1         0   \n",
              "\n",
              "      Personal Loan  Securities Account  CD Account  Online  CreditCard  \n",
              "4995              0                   0           0       1           0  \n",
              "4996              0                   0           0       1           0  \n",
              "4997              0                   0           0       0           0  \n",
              "4998              0                   0           0       1           0  \n",
              "4999              0                   0           0       1           1  "
            ]
          },
          "metadata": {
            "tags": []
          },
          "execution_count": 17
        }
      ]
    },
    {
      "cell_type": "code",
      "metadata": {
        "id": "vdubvCB7LtNL",
        "colab_type": "code",
        "colab": {
          "base_uri": "https://localhost:8080/",
          "height": 85
        },
        "outputId": "bf94f257-4ffe-4595-b414-f0e364224bbf"
      },
      "source": [
        "df_dummies0 = pd.get_dummies(data, columns=['Education'])   # One Hot Encoding of Categorical variable\n",
        "#df_dummies1 = pd.get_dummies(df_dummies0, columns=['Securities Account','CD Account','Online','CreditCard'])\n",
        "#No Significant difference was found by not including the categorical variables\n",
        "print(df_dummies0.columns)"
      ],
      "execution_count": 50,
      "outputs": [
        {
          "output_type": "stream",
          "text": [
            "Index(['Age', 'Experience', 'Income', 'Family', 'CCAvg', 'Mortgage',\n",
            "       'Personal Loan', 'Securities Account', 'CD Account', 'Online',\n",
            "       'CreditCard', 'Education_1', 'Education_2', 'Education_3'],\n",
            "      dtype='object')\n"
          ],
          "name": "stdout"
        }
      ]
    },
    {
      "cell_type": "code",
      "metadata": {
        "id": "JPV46EYTUgF6",
        "colab_type": "code",
        "colab": {}
      },
      "source": [
        "#data[....].value_counts(normalize=True)\n",
        "#data[....].fillna(0, inplace=True)"
      ],
      "execution_count": null,
      "outputs": []
    },
    {
      "cell_type": "code",
      "metadata": {
        "id": "eeAMQzpkWqu9",
        "colab_type": "code",
        "colab": {}
      },
      "source": [
        "#data.groupby(['Gender','loan',...])['CoapplicantIncome'].sum()"
      ],
      "execution_count": null,
      "outputs": []
    },
    {
      "cell_type": "code",
      "metadata": {
        "id": "57AsUip_XhpW",
        "colab_type": "code",
        "colab": {}
      },
      "source": [
        "from sklearn.linear_model import LogisticRegression\n",
        "from sklearn.svm import SVC\n",
        "from sklearn.tree import DecisionTreeClassifier\n",
        "from sklearn.neighbors import NearestNeighbors\n",
        "from sklearn import naive_bayes\n",
        "from sklearn.ensemble import RandomForestClassifier\n",
        "from sklearn.metrics import classification_report, confusion_matrix"
      ],
      "execution_count": 19,
      "outputs": []
    },
    {
      "cell_type": "code",
      "metadata": {
        "id": "cMzg56u7Y2oq",
        "colab_type": "code",
        "colab": {}
      },
      "source": [
        "LR_model = LogisticRegression()\n",
        "LR_model_ = LogisticRegression()\n",
        "x = df_dummies0.drop('Personal Loan', axis = 1)\n",
        "y = df_dummies0['Personal Loan']\n",
        "#x_= df_dummies1.drop('Personal Loan', axis = 1)\n",
        "#y_= df_dummies1['Personal Loan']"
      ],
      "execution_count": 20,
      "outputs": []
    },
    {
      "cell_type": "code",
      "metadata": {
        "id": "2EEllQGxZSF-",
        "colab_type": "code",
        "colab": {
          "base_uri": "https://localhost:8080/",
          "height": 102
        },
        "outputId": "96a6dcc9-ef41-4f24-82c8-4f29786b8e0c"
      },
      "source": [
        "from sklearn.model_selection import train_test_split\n",
        "XT, Xt, YT, Yt = train_test_split(x, y, test_size=0.30)   #Split the data into training and test set in the ratio of 70:30 respectively.\n",
        "#X_T, X_t, Y_T, Y_t = train_test_split(x_, y_, test_size=0.30)\n",
        "LR_model.fit(XT,YT)\n",
        "#LR_model_.fit(X_T,Y_T)"
      ],
      "execution_count": 21,
      "outputs": [
        {
          "output_type": "execute_result",
          "data": {
            "text/plain": [
              "LogisticRegression(C=1.0, class_weight=None, dual=False, fit_intercept=True,\n",
              "                   intercept_scaling=1, l1_ratio=None, max_iter=100,\n",
              "                   multi_class='auto', n_jobs=None, penalty='l2',\n",
              "                   random_state=None, solver='lbfgs', tol=0.0001, verbose=0,\n",
              "                   warm_start=False)"
            ]
          },
          "metadata": {
            "tags": []
          },
          "execution_count": 21
        }
      ]
    },
    {
      "cell_type": "code",
      "metadata": {
        "id": "lUrgLwGvZ8LX",
        "colab_type": "code",
        "colab": {
          "base_uri": "https://localhost:8080/",
          "height": 272
        },
        "outputId": "4ccc1715-c0d4-41ea-daf4-68de7f1f982f"
      },
      "source": [
        "LR_model.get_params()"
      ],
      "execution_count": 22,
      "outputs": [
        {
          "output_type": "execute_result",
          "data": {
            "text/plain": [
              "{'C': 1.0,\n",
              " 'class_weight': None,\n",
              " 'dual': False,\n",
              " 'fit_intercept': True,\n",
              " 'intercept_scaling': 1,\n",
              " 'l1_ratio': None,\n",
              " 'max_iter': 100,\n",
              " 'multi_class': 'auto',\n",
              " 'n_jobs': None,\n",
              " 'penalty': 'l2',\n",
              " 'random_state': None,\n",
              " 'solver': 'lbfgs',\n",
              " 'tol': 0.0001,\n",
              " 'verbose': 0,\n",
              " 'warm_start': False}"
            ]
          },
          "metadata": {
            "tags": []
          },
          "execution_count": 22
        }
      ]
    },
    {
      "cell_type": "code",
      "metadata": {
        "id": "-CTrQ5N-aCas",
        "colab_type": "code",
        "colab": {
          "base_uri": "https://localhost:8080/",
          "height": 34
        },
        "outputId": "e8dddb92-1893-4e81-aab6-7272849d57c8"
      },
      "source": [
        "yp = LR_model.predict(Xt)\n",
        "#yp_ = LR_model_.predict(X_t)\n",
        "print(yp)"
      ],
      "execution_count": 23,
      "outputs": [
        {
          "output_type": "stream",
          "text": [
            "[0 0 0 ... 0 0 0]\n"
          ],
          "name": "stdout"
        }
      ]
    },
    {
      "cell_type": "code",
      "metadata": {
        "id": "u7pldtAfbPbn",
        "colab_type": "code",
        "colab": {
          "base_uri": "https://localhost:8080/",
          "height": 34
        },
        "outputId": "8d350323-7391-44c1-b9e3-f40bc3790060"
      },
      "source": [
        "LR_model.score(XT,YT)"
      ],
      "execution_count": 24,
      "outputs": [
        {
          "output_type": "execute_result",
          "data": {
            "text/plain": [
              "0.9551428571428572"
            ]
          },
          "metadata": {
            "tags": []
          },
          "execution_count": 24
        }
      ]
    },
    {
      "cell_type": "code",
      "metadata": {
        "id": "cxhh9oPPwIFh",
        "colab_type": "code",
        "colab": {}
      },
      "source": [
        "#LR_model_.score(X_T,Y_T)"
      ],
      "execution_count": 25,
      "outputs": []
    },
    {
      "cell_type": "code",
      "metadata": {
        "id": "EL31nBwbcQ50",
        "colab_type": "code",
        "colab": {
          "base_uri": "https://localhost:8080/",
          "height": 34
        },
        "outputId": "84555397-4d38-4d9c-eee8-d937aff5ee6f"
      },
      "source": [
        "LR_model.score(Xt,Yt)"
      ],
      "execution_count": 26,
      "outputs": [
        {
          "output_type": "execute_result",
          "data": {
            "text/plain": [
              "0.962"
            ]
          },
          "metadata": {
            "tags": []
          },
          "execution_count": 26
        }
      ]
    },
    {
      "cell_type": "code",
      "metadata": {
        "id": "VMFWfDedwPmm",
        "colab_type": "code",
        "colab": {}
      },
      "source": [
        "#LR_model_.score(X_t,Y_t)"
      ],
      "execution_count": 27,
      "outputs": []
    },
    {
      "cell_type": "code",
      "metadata": {
        "id": "33oJf8RNzeMv",
        "colab_type": "code",
        "colab": {
          "base_uri": "https://localhost:8080/",
          "height": 867
        },
        "outputId": "4a2ad1fa-e8eb-4f80-d8d5-fdc04488ad96"
      },
      "source": [
        "\n",
        "for i in [0.00001,0.0001,0.001,0.01,0.1,1,10,100,1000,10000]:\n",
        "  for j in ['newton-cg', 'lbfgs', 'liblinear', 'sag', 'saga']:\n",
        "    M = LogisticRegression(C=i,solver=j)\n",
        "    M.fit(XT,YT)\n",
        "    print(\"{:12.5f},{:.2f},{:.2f} {}\".format(i, M.score(XT,YT), M.score(Xt,Yt),j))"
      ],
      "execution_count": 28,
      "outputs": [
        {
          "output_type": "stream",
          "text": [
            "     0.00001,0.91,0.91 newton-cg\n",
            "     0.00001,0.91,0.91 lbfgs\n",
            "     0.00001,0.90,0.90 liblinear\n",
            "     0.00001,0.90,0.90 sag\n",
            "     0.00001,0.90,0.90 saga\n",
            "     0.00010,0.91,0.91 newton-cg\n",
            "     0.00010,0.91,0.91 lbfgs\n",
            "     0.00010,0.90,0.90 liblinear\n",
            "     0.00010,0.90,0.90 sag\n",
            "     0.00010,0.90,0.90 saga\n",
            "     0.00100,0.91,0.92 newton-cg\n",
            "     0.00100,0.91,0.92 lbfgs\n",
            "     0.00100,0.91,0.91 liblinear\n",
            "     0.00100,0.91,0.91 sag\n",
            "     0.00100,0.91,0.90 saga\n",
            "     0.01000,0.94,0.94 newton-cg\n",
            "     0.01000,0.93,0.93 lbfgs\n",
            "     0.01000,0.93,0.93 liblinear\n",
            "     0.01000,0.91,0.91 sag\n",
            "     0.01000,0.91,0.91 saga\n",
            "     0.10000,0.95,0.95 newton-cg\n",
            "     0.10000,0.95,0.96 lbfgs\n",
            "     0.10000,0.95,0.96 liblinear\n",
            "     0.10000,0.91,0.91 sag\n",
            "     0.10000,0.91,0.91 saga\n",
            "     1.00000,0.96,0.96 newton-cg\n",
            "     1.00000,0.96,0.96 lbfgs\n",
            "     1.00000,0.96,0.96 liblinear\n",
            "     1.00000,0.91,0.91 sag\n",
            "     1.00000,0.91,0.91 saga\n",
            "    10.00000,0.96,0.96 newton-cg\n",
            "    10.00000,0.96,0.96 lbfgs\n",
            "    10.00000,0.96,0.96 liblinear\n",
            "    10.00000,0.91,0.91 sag\n",
            "    10.00000,0.91,0.91 saga\n",
            "   100.00000,0.96,0.96 newton-cg\n",
            "   100.00000,0.96,0.96 lbfgs\n",
            "   100.00000,0.96,0.96 liblinear\n",
            "   100.00000,0.91,0.91 sag\n",
            "   100.00000,0.91,0.91 saga\n",
            "  1000.00000,0.96,0.96 newton-cg\n",
            "  1000.00000,0.96,0.96 lbfgs\n",
            "  1000.00000,0.96,0.96 liblinear\n",
            "  1000.00000,0.91,0.91 sag\n",
            "  1000.00000,0.91,0.91 saga\n",
            " 10000.00000,0.96,0.96 newton-cg\n",
            " 10000.00000,0.96,0.96 lbfgs\n",
            " 10000.00000,0.96,0.96 liblinear\n",
            " 10000.00000,0.91,0.91 sag\n",
            " 10000.00000,0.91,0.91 saga\n"
          ],
          "name": "stdout"
        }
      ]
    },
    {
      "cell_type": "code",
      "metadata": {
        "id": "Bm-BMB2HIRpw",
        "colab_type": "code",
        "colab": {
          "base_uri": "https://localhost:8080/",
          "height": 204
        },
        "outputId": "f530fd0d-49bc-4bee-9cb8-593300e4b302"
      },
      "source": [
        "LR = LogisticRegression(C=10, solver='liblinear')\n",
        "LR.fit(XT,YT)\n",
        "yp = LR.predict(Xt)\n",
        "print(classification_report(yp, Yt))\n",
        "matrix = confusion_matrix(yp, Yt)\n",
        "sns.heatmap(matrix)\n",
        "print(matrix)"
      ],
      "execution_count": 29,
      "outputs": [
        {
          "output_type": "stream",
          "text": [
            "              precision    recall  f1-score   support\n",
            "\n",
            "           0       1.00      0.96      0.98      1398\n",
            "           1       0.66      0.95      0.78       102\n",
            "\n",
            "    accuracy                           0.96      1500\n",
            "   macro avg       0.83      0.96      0.88      1500\n",
            "weighted avg       0.97      0.96      0.97      1500\n",
            "\n",
            "[[1349   49]\n",
            " [   5   97]]\n"
          ],
          "name": "stdout"
        }
      ]
    },
    {
      "cell_type": "code",
      "metadata": {
        "id": "06irNVT_g8hg",
        "colab_type": "code",
        "colab": {
          "base_uri": "https://localhost:8080/",
          "height": 224
        },
        "outputId": "d8edb1e4-c735-4235-88ac-aa2fcf76e15d"
      },
      "source": [
        "!pip install yellowbrick"
      ],
      "execution_count": null,
      "outputs": [
        {
          "output_type": "stream",
          "text": [
            "Requirement already satisfied: yellowbrick in /usr/local/lib/python3.6/dist-packages (0.9.1)\n",
            "Requirement already satisfied: numpy>=1.13.0 in /usr/local/lib/python3.6/dist-packages (from yellowbrick) (1.18.5)\n",
            "Requirement already satisfied: scikit-learn>=0.20 in /usr/local/lib/python3.6/dist-packages (from yellowbrick) (0.22.2.post1)\n",
            "Requirement already satisfied: scipy>=1.0.0 in /usr/local/lib/python3.6/dist-packages (from yellowbrick) (1.4.1)\n",
            "Requirement already satisfied: matplotlib!=3.0.0,>=1.5.1 in /usr/local/lib/python3.6/dist-packages (from yellowbrick) (3.2.2)\n",
            "Requirement already satisfied: cycler>=0.10.0 in /usr/local/lib/python3.6/dist-packages (from yellowbrick) (0.10.0)\n",
            "Requirement already satisfied: joblib>=0.11 in /usr/local/lib/python3.6/dist-packages (from scikit-learn>=0.20->yellowbrick) (0.16.0)\n",
            "Requirement already satisfied: kiwisolver>=1.0.1 in /usr/local/lib/python3.6/dist-packages (from matplotlib!=3.0.0,>=1.5.1->yellowbrick) (1.2.0)\n",
            "Requirement already satisfied: python-dateutil>=2.1 in /usr/local/lib/python3.6/dist-packages (from matplotlib!=3.0.0,>=1.5.1->yellowbrick) (2.8.1)\n",
            "Requirement already satisfied: pyparsing!=2.0.4,!=2.1.2,!=2.1.6,>=2.0.1 in /usr/local/lib/python3.6/dist-packages (from matplotlib!=3.0.0,>=1.5.1->yellowbrick) (2.4.7)\n",
            "Requirement already satisfied: six in /usr/local/lib/python3.6/dist-packages (from cycler>=0.10.0->yellowbrick) (1.15.0)\n"
          ],
          "name": "stdout"
        }
      ]
    },
    {
      "cell_type": "code",
      "metadata": {
        "id": "jEYjf407hQu4",
        "colab_type": "code",
        "colab": {
          "base_uri": "https://localhost:8080/",
          "height": 34
        },
        "outputId": "5ba5375b-03e5-471d-b1cc-2ba87c09efe6"
      },
      "source": [
        "from yellowbrick.classifier import ClassificationReport\n",
        "viz = ClassificationReport(LR)\n",
        "viz.fit(XT, YT)\n",
        "viz.score(Xt, Yt)"
      ],
      "execution_count": 35,
      "outputs": [
        {
          "output_type": "execute_result",
          "data": {
            "text/plain": [
              "0.964"
            ]
          },
          "metadata": {
            "tags": []
          },
          "execution_count": 35
        }
      ]
    },
    {
      "cell_type": "code",
      "metadata": {
        "id": "owXxOw17hh8K",
        "colab_type": "code",
        "colab": {
          "base_uri": "https://localhost:8080/",
          "height": 34
        },
        "outputId": "f5232f08-0535-40bc-985c-545799ae27c7"
      },
      "source": [
        "from yellowbrick.classifier import ROCAUC\n",
        "viz = ROCAUC(LR)\n",
        "viz.fit(XT, YT)\n",
        "viz.score(Xt, Yt)\n",
        "#viz.show()"
      ],
      "execution_count": 33,
      "outputs": [
        {
          "output_type": "execute_result",
          "data": {
            "text/plain": [
              "0.964"
            ]
          },
          "metadata": {
            "tags": []
          },
          "execution_count": 33
        }
      ]
    },
    {
      "cell_type": "code",
      "metadata": {
        "id": "SfRfOoUciKDr",
        "colab_type": "code",
        "colab": {
          "base_uri": "https://localhost:8080/",
          "height": 102
        },
        "outputId": "baf143bb-557f-4dc5-898b-e4a6b01a196e"
      },
      "source": [
        "LR.get_params"
      ],
      "execution_count": 36,
      "outputs": [
        {
          "output_type": "execute_result",
          "data": {
            "text/plain": [
              "<bound method BaseEstimator.get_params of LogisticRegression(C=10, class_weight=None, dual=False, fit_intercept=True,\n",
              "                   intercept_scaling=1, l1_ratio=None, max_iter=100,\n",
              "                   multi_class='auto', n_jobs=None, penalty='l2',\n",
              "                   random_state=None, solver='liblinear', tol=0.0001, verbose=0,\n",
              "                   warm_start=False)>"
            ]
          },
          "metadata": {
            "tags": []
          },
          "execution_count": 36
        }
      ]
    },
    {
      "cell_type": "code",
      "metadata": {
        "id": "dnwgXLB7nEDH",
        "colab_type": "code",
        "colab": {
          "base_uri": "https://localhost:8080/",
          "height": 357
        },
        "outputId": "23e4c927-0ddd-4896-acc4-2aae70d3c6ab"
      },
      "source": [
        "import statsmodels.api as sm\n",
        "X2 = sm.add_constant(Xt)\n",
        "regressor2 = sm.Logit(Yt, X2).fit()\n",
        "print(\"p-values for each column:\")\n",
        "print()\n",
        "print(regressor2.pvalues)"
      ],
      "execution_count": null,
      "outputs": [
        {
          "output_type": "stream",
          "text": [
            "Optimization terminated successfully.\n",
            "         Current function value: 0.124208\n",
            "         Iterations 9\n",
            "p-values for each column:\n",
            "\n",
            "const                1.00\n",
            "Age                  0.26\n",
            "Experience           0.22\n",
            "Income               0.00\n",
            "Family               0.00\n",
            "CCAvg                0.00\n",
            "Mortgage             0.22\n",
            "Securities Account   0.07\n",
            "CD Account           0.00\n",
            "Online               0.05\n",
            "CreditCard           0.00\n",
            "Education_1          1.00\n",
            "Education_2          1.00\n",
            "Education_3          1.00\n",
            "dtype: float64\n"
          ],
          "name": "stdout"
        }
      ]
    },
    {
      "cell_type": "code",
      "metadata": {
        "id": "b7GAzg_9noSN",
        "colab_type": "code",
        "colab": {}
      },
      "source": [
        "pd.DataFrame(LR.predict_proba(Xt))"
      ],
      "execution_count": null,
      "outputs": []
    },
    {
      "cell_type": "code",
      "metadata": {
        "id": "e6Zv8PlcLhvI",
        "colab_type": "code",
        "colab": {}
      },
      "source": [
        "Algo = []\n",
        "tr = []\n",
        "te = []\n",
        "recall = []\n",
        "roc = []"
      ],
      "execution_count": 66,
      "outputs": []
    },
    {
      "cell_type": "code",
      "metadata": {
        "id": "midPUU95MCyr",
        "colab_type": "code",
        "colab": {}
      },
      "source": [
        "#Logistic Regression\n",
        "from sklearn.linear_model import LogisticRegression\n",
        "from sklearn.metrics import recall_score, precision_score, roc_auc_score\n",
        "model = LogisticRegression()\n",
        "model.fit(XT,YT)\n",
        "YP = model.predict(Xt)\n",
        "Algo.append('Logistic Regression')\n",
        "tr.append(model.score(XT,YT))\n",
        "te.append(model.score(Xt,Yt))\n",
        "recall.append(recall_score(YP,Yt))\n",
        "roc.append(roc_auc_score(YP, Yt))"
      ],
      "execution_count": 67,
      "outputs": []
    },
    {
      "cell_type": "code",
      "metadata": {
        "id": "acS822R4rJXB",
        "colab_type": "code",
        "colab": {}
      },
      "source": [
        "model2 = SVC(kernel = 'linear')\n",
        "model2.fit(XT,YT)\n",
        "YP = model2.predict(Xt)\n",
        "Algo.append('Logistic Regression')\n",
        "tr.append(model2.score(XT,YT))\n",
        "te.append(model2.score(Xt,Yt))\n",
        "recall.append(recall_score(YP,Yt))\n",
        "roc.append(roc_auc_score(YP, Yt))\n"
      ],
      "execution_count": 68,
      "outputs": []
    },
    {
      "cell_type": "code",
      "metadata": {
        "id": "PC4LM1_ceOAB",
        "colab_type": "code",
        "colab": {}
      },
      "source": [
        "from sklearn.tree import DecisionTreeClassifier"
      ],
      "execution_count": 69,
      "outputs": []
    },
    {
      "cell_type": "code",
      "metadata": {
        "id": "G10mzICceZrg",
        "colab_type": "code",
        "colab": {
          "base_uri": "https://localhost:8080/",
          "height": 51
        },
        "outputId": "ff69864d-0f48-4d52-9ca5-34f71306dced"
      },
      "source": [
        "model_dt = DecisionTreeClassifier(criterion=\"entropy\")\n",
        "model_dt.fit(XT,YT)\n",
        "YP_dt = model_dt.predict(Xt)\n",
        "print(model_dt.score(XT, YT))\n",
        "print(model_dt.score(Xt,Yt))"
      ],
      "execution_count": 70,
      "outputs": [
        {
          "output_type": "stream",
          "text": [
            "1.0\n",
            "0.9886666666666667\n"
          ],
          "name": "stdout"
        }
      ]
    },
    {
      "cell_type": "code",
      "metadata": {
        "id": "ylmvmOG6e4Wx",
        "colab_type": "code",
        "colab": {}
      },
      "source": [
        "model_pruned = DecisionTreeClassifier(criterion=\"entropy\", max_depth = 3, random_state = 11)"
      ],
      "execution_count": 71,
      "outputs": []
    },
    {
      "cell_type": "code",
      "metadata": {
        "id": "716HSzl7fXLk",
        "colab_type": "code",
        "colab": {
          "base_uri": "https://localhost:8080/",
          "height": 51
        },
        "outputId": "03aa0b38-2b04-4fbf-883b-7b5e7e210bd1"
      },
      "source": [
        "model_pruned.fit(XT,YT)\n",
        "YP_dt = model_pruned.predict(Xt)\n",
        "print(model_pruned.score(XT, YT))\n",
        "print(model_pruned.score(Xt,Yt))"
      ],
      "execution_count": 72,
      "outputs": [
        {
          "output_type": "stream",
          "text": [
            "0.9785714285714285\n",
            "0.9826666666666667\n"
          ],
          "name": "stdout"
        }
      ]
    },
    {
      "cell_type": "code",
      "metadata": {
        "id": "U8WQOtGegKd_",
        "colab_type": "code",
        "colab": {
          "base_uri": "https://localhost:8080/",
          "height": 359
        },
        "outputId": "15ffdaad-59f7-4564-c3a3-f314b4faa4e4"
      },
      "source": [
        "fc = XT.columns\n",
        "fi = model_pruned.tree_.compute_feature_importances(normalize=False)\n",
        "fi_dict = dict(zip(fc,model_pruned.feature_importances_))\n",
        "fimp = pd.DataFrame.from_dict(fi_dict, orient='index')\n",
        "fimp.sort_values(by=0, ascending=False)[0:10]\n"
      ],
      "execution_count": 73,
      "outputs": [
        {
          "output_type": "execute_result",
          "data": {
            "text/html": [
              "<div>\n",
              "<style scoped>\n",
              "    .dataframe tbody tr th:only-of-type {\n",
              "        vertical-align: middle;\n",
              "    }\n",
              "\n",
              "    .dataframe tbody tr th {\n",
              "        vertical-align: top;\n",
              "    }\n",
              "\n",
              "    .dataframe thead th {\n",
              "        text-align: right;\n",
              "    }\n",
              "</style>\n",
              "<table border=\"1\" class=\"dataframe\">\n",
              "  <thead>\n",
              "    <tr style=\"text-align: right;\">\n",
              "      <th></th>\n",
              "      <th>0</th>\n",
              "    </tr>\n",
              "  </thead>\n",
              "  <tbody>\n",
              "    <tr>\n",
              "      <th>Income</th>\n",
              "      <td>0.55</td>\n",
              "    </tr>\n",
              "    <tr>\n",
              "      <th>Education_1</th>\n",
              "      <td>0.21</td>\n",
              "    </tr>\n",
              "    <tr>\n",
              "      <th>Family</th>\n",
              "      <td>0.14</td>\n",
              "    </tr>\n",
              "    <tr>\n",
              "      <th>CCAvg</th>\n",
              "      <td>0.09</td>\n",
              "    </tr>\n",
              "    <tr>\n",
              "      <th>CD Account</th>\n",
              "      <td>0.01</td>\n",
              "    </tr>\n",
              "    <tr>\n",
              "      <th>Age</th>\n",
              "      <td>0.00</td>\n",
              "    </tr>\n",
              "    <tr>\n",
              "      <th>Experience</th>\n",
              "      <td>0.00</td>\n",
              "    </tr>\n",
              "    <tr>\n",
              "      <th>Mortgage</th>\n",
              "      <td>0.00</td>\n",
              "    </tr>\n",
              "    <tr>\n",
              "      <th>Securities Account</th>\n",
              "      <td>0.00</td>\n",
              "    </tr>\n",
              "    <tr>\n",
              "      <th>Online</th>\n",
              "      <td>0.00</td>\n",
              "    </tr>\n",
              "  </tbody>\n",
              "</table>\n",
              "</div>"
            ],
            "text/plain": [
              "                      0\n",
              "Income             0.55\n",
              "Education_1        0.21\n",
              "Family             0.14\n",
              "CCAvg              0.09\n",
              "CD Account         0.01\n",
              "Age                0.00\n",
              "Experience         0.00\n",
              "Mortgage           0.00\n",
              "Securities Account 0.00\n",
              "Online             0.00"
            ]
          },
          "metadata": {
            "tags": []
          },
          "execution_count": 73
        }
      ]
    },
    {
      "cell_type": "code",
      "metadata": {
        "id": "VgdfySgTgZ2m",
        "colab_type": "code",
        "colab": {}
      },
      "source": [
        "#Decision Tree using Entropy\n",
        "model = DecisionTreeClassifier(criterion=\"entropy\", max_depth=3, min_samples_leaf=5)\n",
        "model.fit(XT,YT)\n",
        "YP = model.predict(Xt)\n",
        "Algo.append('Decision Tree Classifier:Entropy')\n",
        "tr.append(model.score(XT,YT))\n",
        "te.append(model.score(Xt,Yt))\n",
        "recall.append(recall_score(YP,Yt))\n",
        "roc.append(roc_auc_score(YP, Yt))"
      ],
      "execution_count": 74,
      "outputs": []
    },
    {
      "cell_type": "code",
      "metadata": {
        "id": "PP0QgpCxh7Dv",
        "colab_type": "code",
        "colab": {}
      },
      "source": [
        "#Decision Tree using GINI\n",
        "model = DecisionTreeClassifier(criterion=\"gini\", max_depth=3, min_samples_leaf=5)\n",
        "model.fit(XT,YT)\n",
        "YP = model.predict(Xt)\n",
        "Algo.append('Decision Tree Classifier: GINI')\n",
        "tr.append(model.score(XT,YT))\n",
        "te.append(model.score(Xt,Yt))\n",
        "recall.append(recall_score(YP,Yt))\n",
        "roc.append(roc_auc_score(YP, Yt))"
      ],
      "execution_count": 75,
      "outputs": []
    },
    {
      "cell_type": "code",
      "metadata": {
        "id": "2xxegilriiKT",
        "colab_type": "code",
        "colab": {}
      },
      "source": [
        "#Random Tree using GINI\n",
        "from sklearn.ensemble import RandomForestClassifier\n",
        "model = RandomForestClassifier(n_estimators=50,random_state=11)\n",
        "model.fit(XT,YT)\n",
        "YP = model.predict(Xt)\n",
        "Algo.append('Random Forest')\n",
        "tr.append(model.score(XT,YT))\n",
        "te.append(model.score(Xt,Yt))\n",
        "recall.append(recall_score(YP,Yt))\n",
        "roc.append(roc_auc_score(YP, Yt))"
      ],
      "execution_count": 76,
      "outputs": []
    },
    {
      "cell_type": "code",
      "metadata": {
        "id": "DiRL2pyyjJ4I",
        "colab_type": "code",
        "colab": {}
      },
      "source": [
        "from sklearn.ensemble import BaggingClassifier\n",
        "model = RandomForestClassifier(n_estimators=100, max_samples = 0.7, bootstrap=True, oob_score=True,random_state=11)\n",
        "model.fit(XT,YT)\n",
        "YP = model.predict(Xt)\n",
        "Algo.append('Bagging Classifier')\n",
        "tr.append(model.score(XT,YT))\n",
        "te.append(model.score(Xt,Yt))\n",
        "recall.append(recall_score(YP,Yt))\n",
        "roc.append(roc_auc_score(YP, Yt))"
      ],
      "execution_count": 77,
      "outputs": []
    },
    {
      "cell_type": "code",
      "metadata": {
        "id": "2fCq29hfjd-j",
        "colab_type": "code",
        "colab": {}
      },
      "source": [
        "#Adaptive Boosting\n",
        "from sklearn.ensemble import AdaBoostClassifier\n",
        "model = AdaBoostClassifier(n_estimators=200, learning_rate = 0.1,random_state=11)\n",
        "model.fit(XT,YT)\n",
        "YP = model.predict(Xt)\n",
        "Algo.append('AdaBoost Classifier')\n",
        "tr.append(model.score(XT,YT))\n",
        "te.append(model.score(Xt,Yt))\n",
        "recall.append(recall_score(YP,Yt))\n",
        "roc.append(roc_auc_score(YP, Yt))"
      ],
      "execution_count": 78,
      "outputs": []
    },
    {
      "cell_type": "code",
      "metadata": {
        "id": "rRhsu2FMj9t5",
        "colab_type": "code",
        "colab": {}
      },
      "source": [
        "#Adaptive Boosting\n",
        "from sklearn.ensemble import GradientBoostingClassifier\n",
        "model = GradientBoostingClassifier(n_estimators=200,random_state=11)\n",
        "model.fit(XT,YT)\n",
        "YP = model.predict(Xt)\n",
        "Algo.append('Gradient Classifier')\n",
        "tr.append(model.score(XT,YT))\n",
        "te.append(model.score(Xt,Yt))\n",
        "recall.append(recall_score(YP,Yt))\n",
        "roc.append(roc_auc_score(YP, Yt))"
      ],
      "execution_count": 79,
      "outputs": []
    },
    {
      "cell_type": "code",
      "metadata": {
        "id": "jh7ixjg2kSow",
        "colab_type": "code",
        "colab": {
          "base_uri": "https://localhost:8080/",
          "height": 328
        },
        "outputId": "aa6c01a0-73f5-43d9-c285-88c05fc39844"
      },
      "source": [
        "results = pd.DataFrame()\n",
        "results['Model'] = Algo\n",
        "results['Training Acc'] = tr\n",
        "results['Test Acc'] = te\n",
        "results['Recall'] = recall\n",
        "results['Roc auc '] = roc\n",
        "results = results.set_index('Model')\n",
        "results"
      ],
      "execution_count": 80,
      "outputs": [
        {
          "output_type": "execute_result",
          "data": {
            "text/html": [
              "<div>\n",
              "<style scoped>\n",
              "    .dataframe tbody tr th:only-of-type {\n",
              "        vertical-align: middle;\n",
              "    }\n",
              "\n",
              "    .dataframe tbody tr th {\n",
              "        vertical-align: top;\n",
              "    }\n",
              "\n",
              "    .dataframe thead th {\n",
              "        text-align: right;\n",
              "    }\n",
              "</style>\n",
              "<table border=\"1\" class=\"dataframe\">\n",
              "  <thead>\n",
              "    <tr style=\"text-align: right;\">\n",
              "      <th></th>\n",
              "      <th>Training Acc</th>\n",
              "      <th>Test Acc</th>\n",
              "      <th>Recall</th>\n",
              "      <th>Roc auc</th>\n",
              "    </tr>\n",
              "    <tr>\n",
              "      <th>Model</th>\n",
              "      <th></th>\n",
              "      <th></th>\n",
              "      <th></th>\n",
              "      <th></th>\n",
              "    </tr>\n",
              "  </thead>\n",
              "  <tbody>\n",
              "    <tr>\n",
              "      <th>Logistic Regression</th>\n",
              "      <td>0.96</td>\n",
              "      <td>0.96</td>\n",
              "      <td>0.92</td>\n",
              "      <td>0.94</td>\n",
              "    </tr>\n",
              "    <tr>\n",
              "      <th>Logistic Regression</th>\n",
              "      <td>0.96</td>\n",
              "      <td>0.96</td>\n",
              "      <td>0.96</td>\n",
              "      <td>0.96</td>\n",
              "    </tr>\n",
              "    <tr>\n",
              "      <th>Decision Tree Classifier</th>\n",
              "      <td>0.98</td>\n",
              "      <td>0.98</td>\n",
              "      <td>0.96</td>\n",
              "      <td>0.97</td>\n",
              "    </tr>\n",
              "    <tr>\n",
              "      <th>Decision Tree Classifier: GINI</th>\n",
              "      <td>0.98</td>\n",
              "      <td>0.99</td>\n",
              "      <td>0.98</td>\n",
              "      <td>0.99</td>\n",
              "    </tr>\n",
              "    <tr>\n",
              "      <th>Random Forest</th>\n",
              "      <td>1.00</td>\n",
              "      <td>0.99</td>\n",
              "      <td>1.00</td>\n",
              "      <td>0.99</td>\n",
              "    </tr>\n",
              "    <tr>\n",
              "      <th>Bagging Classifier</th>\n",
              "      <td>1.00</td>\n",
              "      <td>0.99</td>\n",
              "      <td>0.99</td>\n",
              "      <td>0.99</td>\n",
              "    </tr>\n",
              "    <tr>\n",
              "      <th>AdaBoost Classifier</th>\n",
              "      <td>0.97</td>\n",
              "      <td>0.97</td>\n",
              "      <td>0.96</td>\n",
              "      <td>0.97</td>\n",
              "    </tr>\n",
              "    <tr>\n",
              "      <th>Gradient Classifier</th>\n",
              "      <td>1.00</td>\n",
              "      <td>0.99</td>\n",
              "      <td>0.97</td>\n",
              "      <td>0.98</td>\n",
              "    </tr>\n",
              "  </tbody>\n",
              "</table>\n",
              "</div>"
            ],
            "text/plain": [
              "                                Training Acc  Test Acc  Recall  Roc auc \n",
              "Model                                                                   \n",
              "Logistic Regression                     0.96      0.96    0.92      0.94\n",
              "Logistic Regression                     0.96      0.96    0.96      0.96\n",
              "Decision Tree Classifier                0.98      0.98    0.96      0.97\n",
              "Decision Tree Classifier: GINI          0.98      0.99    0.98      0.99\n",
              "Random Forest                           1.00      0.99    1.00      0.99\n",
              "Bagging Classifier                      1.00      0.99    0.99      0.99\n",
              "AdaBoost Classifier                     0.97      0.97    0.96      0.97\n",
              "Gradient Classifier                     1.00      0.99    0.97      0.98"
            ]
          },
          "metadata": {
            "tags": []
          },
          "execution_count": 80
        }
      ]
    },
    {
      "cell_type": "code",
      "metadata": {
        "id": "1STqmM5PsNQW",
        "colab_type": "code",
        "colab": {}
      },
      "source": [
        "#Random Forest is found to be the better model of the rest "
      ],
      "execution_count": null,
      "outputs": []
    },
    {
      "cell_type": "code",
      "metadata": {
        "id": "NeQkyC4gsalP",
        "colab_type": "code",
        "colab": {}
      },
      "source": [
        ""
      ],
      "execution_count": null,
      "outputs": []
    }
  ]
}